{
 "cells": [
  {
   "cell_type": "markdown",
   "metadata": {},
   "source": [
    "# Geoparsing Package"
   ]
  },
  {
   "cell_type": "markdown",
   "metadata": {},
   "source": [
    "## 1. Python libs needed\n",
    "### 1.1. Python libs: \n",
    "psycopg2 >= 2.5, nltk >= 3.2, numpy >= 1.7, shapely >= 1.5\n",
    "### 1.2. Database: \n",
    "PostgreSQL >= 9.3 and PostGIS >= 2.1 database loaded with database image containing global cities\n",
    "### 1.3.  NLTK corpra:\n",
    "import nltk\n",
    "\tnltk.download()\n",
    "\t==> install all or at least stopwords, names and wordnet"
   ]
  },
  {
   "cell_type": "code",
   "execution_count": 1,
   "metadata": {
    "collapsed": true
   },
   "outputs": [],
   "source": [
    "import nltk"
   ]
  },
  {
   "cell_type": "code",
   "execution_count": 2,
   "metadata": {
    "collapsed": true
   },
   "outputs": [
    {
     "name": "stdout",
     "output_type": "stream",
     "text": [
      "showing info https://raw.githubusercontent.com/nltk/nltk_data/gh-pages/index.xml\n",
      "showing info https://raw.githubusercontent.com/nltk/nltk_data/gh-pages/index.xml\n"
     ]
    },
    {
     "ename": "KeyboardInterrupt",
     "evalue": "",
     "output_type": "error",
     "traceback": [
      "\u001b[1;31m---------------------------------------------------------------------------\u001b[0m",
      "\u001b[1;31mKeyboardInterrupt\u001b[0m                         Traceback (most recent call last)",
      "\u001b[1;32m<ipython-input-2-a1a554e5d735>\u001b[0m in \u001b[0;36m<module>\u001b[1;34m()\u001b[0m\n\u001b[1;32m----> 1\u001b[1;33m \u001b[0mnltk\u001b[0m\u001b[1;33m.\u001b[0m\u001b[0mdownload\u001b[0m\u001b[1;33m(\u001b[0m\u001b[1;33m)\u001b[0m\u001b[1;33m\u001b[0m\u001b[0m\n\u001b[0m",
      "\u001b[1;32m~\\Anaconda3\\lib\\site-packages\\nltk\\downloader.py\u001b[0m in \u001b[0;36mdownload\u001b[1;34m(self, info_or_id, download_dir, quiet, force, prefix, halt_on_error, raise_on_error)\u001b[0m\n\u001b[0;32m    659\u001b[0m             \u001b[1;31m# function should make a new copy of self to use?\u001b[0m\u001b[1;33m\u001b[0m\u001b[1;33m\u001b[0m\u001b[0m\n\u001b[0;32m    660\u001b[0m             \u001b[1;32mif\u001b[0m \u001b[0mdownload_dir\u001b[0m \u001b[1;32mis\u001b[0m \u001b[1;32mnot\u001b[0m \u001b[1;32mNone\u001b[0m\u001b[1;33m:\u001b[0m \u001b[0mself\u001b[0m\u001b[1;33m.\u001b[0m\u001b[0m_download_dir\u001b[0m \u001b[1;33m=\u001b[0m \u001b[0mdownload_dir\u001b[0m\u001b[1;33m\u001b[0m\u001b[0m\n\u001b[1;32m--> 661\u001b[1;33m             \u001b[0mself\u001b[0m\u001b[1;33m.\u001b[0m\u001b[0m_interactive_download\u001b[0m\u001b[1;33m(\u001b[0m\u001b[1;33m)\u001b[0m\u001b[1;33m\u001b[0m\u001b[0m\n\u001b[0m\u001b[0;32m    662\u001b[0m             \u001b[1;32mreturn\u001b[0m \u001b[1;32mTrue\u001b[0m\u001b[1;33m\u001b[0m\u001b[0m\n\u001b[0;32m    663\u001b[0m \u001b[1;33m\u001b[0m\u001b[0m\n",
      "\u001b[1;32m~\\Anaconda3\\lib\\site-packages\\nltk\\downloader.py\u001b[0m in \u001b[0;36m_interactive_download\u001b[1;34m(self)\u001b[0m\n\u001b[0;32m    980\u001b[0m         \u001b[1;32mif\u001b[0m \u001b[0mTKINTER\u001b[0m\u001b[1;33m:\u001b[0m\u001b[1;33m\u001b[0m\u001b[0m\n\u001b[0;32m    981\u001b[0m             \u001b[1;32mtry\u001b[0m\u001b[1;33m:\u001b[0m\u001b[1;33m\u001b[0m\u001b[0m\n\u001b[1;32m--> 982\u001b[1;33m                 \u001b[0mDownloaderGUI\u001b[0m\u001b[1;33m(\u001b[0m\u001b[0mself\u001b[0m\u001b[1;33m)\u001b[0m\u001b[1;33m.\u001b[0m\u001b[0mmainloop\u001b[0m\u001b[1;33m(\u001b[0m\u001b[1;33m)\u001b[0m\u001b[1;33m\u001b[0m\u001b[0m\n\u001b[0m\u001b[0;32m    983\u001b[0m             \u001b[1;32mexcept\u001b[0m \u001b[0mTclError\u001b[0m\u001b[1;33m:\u001b[0m\u001b[1;33m\u001b[0m\u001b[0m\n\u001b[0;32m    984\u001b[0m                 \u001b[0mDownloaderShell\u001b[0m\u001b[1;33m(\u001b[0m\u001b[0mself\u001b[0m\u001b[1;33m)\u001b[0m\u001b[1;33m.\u001b[0m\u001b[0mrun\u001b[0m\u001b[1;33m(\u001b[0m\u001b[1;33m)\u001b[0m\u001b[1;33m\u001b[0m\u001b[0m\n",
      "\u001b[1;32m~\\Anaconda3\\lib\\site-packages\\nltk\\downloader.py\u001b[0m in \u001b[0;36mmainloop\u001b[1;34m(self, *args, **kwargs)\u001b[0m\n\u001b[0;32m   1715\u001b[0m \u001b[1;33m\u001b[0m\u001b[0m\n\u001b[0;32m   1716\u001b[0m     \u001b[1;32mdef\u001b[0m \u001b[0mmainloop\u001b[0m\u001b[1;33m(\u001b[0m\u001b[0mself\u001b[0m\u001b[1;33m,\u001b[0m \u001b[1;33m*\u001b[0m\u001b[0margs\u001b[0m\u001b[1;33m,\u001b[0m \u001b[1;33m**\u001b[0m\u001b[0mkwargs\u001b[0m\u001b[1;33m)\u001b[0m\u001b[1;33m:\u001b[0m\u001b[1;33m\u001b[0m\u001b[0m\n\u001b[1;32m-> 1717\u001b[1;33m         \u001b[0mself\u001b[0m\u001b[1;33m.\u001b[0m\u001b[0mtop\u001b[0m\u001b[1;33m.\u001b[0m\u001b[0mmainloop\u001b[0m\u001b[1;33m(\u001b[0m\u001b[1;33m*\u001b[0m\u001b[0margs\u001b[0m\u001b[1;33m,\u001b[0m \u001b[1;33m**\u001b[0m\u001b[0mkwargs\u001b[0m\u001b[1;33m)\u001b[0m\u001b[1;33m\u001b[0m\u001b[0m\n\u001b[0m\u001b[0;32m   1718\u001b[0m \u001b[1;33m\u001b[0m\u001b[0m\n\u001b[0;32m   1719\u001b[0m     \u001b[1;31m#/////////////////////////////////////////////////////////////////\u001b[0m\u001b[1;33m\u001b[0m\u001b[1;33m\u001b[0m\u001b[0m\n",
      "\u001b[1;32m~\\Anaconda3\\lib\\tkinter\\__init__.py\u001b[0m in \u001b[0;36mmainloop\u001b[1;34m(self, n)\u001b[0m\n\u001b[0;32m   1275\u001b[0m     \u001b[1;32mdef\u001b[0m \u001b[0mmainloop\u001b[0m\u001b[1;33m(\u001b[0m\u001b[0mself\u001b[0m\u001b[1;33m,\u001b[0m \u001b[0mn\u001b[0m\u001b[1;33m=\u001b[0m\u001b[1;36m0\u001b[0m\u001b[1;33m)\u001b[0m\u001b[1;33m:\u001b[0m\u001b[1;33m\u001b[0m\u001b[0m\n\u001b[0;32m   1276\u001b[0m         \u001b[1;34m\"\"\"Call the mainloop of Tk.\"\"\"\u001b[0m\u001b[1;33m\u001b[0m\u001b[0m\n\u001b[1;32m-> 1277\u001b[1;33m         \u001b[0mself\u001b[0m\u001b[1;33m.\u001b[0m\u001b[0mtk\u001b[0m\u001b[1;33m.\u001b[0m\u001b[0mmainloop\u001b[0m\u001b[1;33m(\u001b[0m\u001b[0mn\u001b[0m\u001b[1;33m)\u001b[0m\u001b[1;33m\u001b[0m\u001b[0m\n\u001b[0m\u001b[0;32m   1278\u001b[0m     \u001b[1;32mdef\u001b[0m \u001b[0mquit\u001b[0m\u001b[1;33m(\u001b[0m\u001b[0mself\u001b[0m\u001b[1;33m)\u001b[0m\u001b[1;33m:\u001b[0m\u001b[1;33m\u001b[0m\u001b[0m\n\u001b[0;32m   1279\u001b[0m         \u001b[1;34m\"\"\"Quit the Tcl interpreter. All widgets will be destroyed.\"\"\"\u001b[0m\u001b[1;33m\u001b[0m\u001b[0m\n",
      "\u001b[1;31mKeyboardInterrupt\u001b[0m: "
     ]
    }
   ],
   "source": [
    "nltk.download()"
   ]
  },
  {
   "cell_type": "markdown",
   "metadata": {},
   "source": [
    "**showing info** https://raw.githubusercontent.com/nltk/nltk_data/gh-pages/index.xml\n",
    "**showing info** https://raw.githubusercontent.com/nltk/nltk_data/gh-pages/index.xml\n",
    "**D:\\Program Files\\nltk_data**  3.25 GB"
   ]
  },
  {
   "cell_type": "markdown",
   "metadata": {},
   "source": [
    "## 2. Databases needed for geoparsing\n",
    "### 2.1. Download SQL tar dumps (failed)\n",
    "\tau_nz_places.tar [1 Mb]\n",
    "\tnorth_america_places.tar [18 Mb]\n",
    "\teurope_places.tar [137 Mb]\n",
    "\tglobal_cities10.tar [4131 Mb]\n",
    "### 2.2. Connect to PostgreSQL and create the database with the required PostGIS and hstore extensions\n",
    "\tCREATE DATABASE openstreetmap;\n",
    "\tCREATE EXTENSION IF NOT EXISTS postgis;\n",
    "\tCREATE EXTENSION IF NOT EXISTS fuzzystrmatch;\n",
    "\tCREATE EXTENSION IF NOT EXISTS postgis_tiger_geocoder;\n",
    "\tCREATE EXTENSION IF NOT EXISTS hstore;\n",
    "\tCREATE SCHEMA IF NOT EXISTS reveal;\n",
    "### 2.3. Import the precomputed database tables for global cities and places\n",
    "\tpg_restore -F t -1 -d openstreetmap global_cities10.tar\n",
    "\tpg_restore -F t -1 -d openstreetmap europe_places.tar\n",
    "\tpg_restore -F t -1 -d openstreetmap north_america_places.tar\n",
    "\tpg_restore -F t -1 -d openstreetmap au_nz_places.tar"
   ]
  },
  {
   "cell_type": "markdown",
   "metadata": {},
   "source": [
    "## 3. Example code geoparse\n",
    "Geoparse some text using the default focus areas in the Postgres database. Fully documented example PY file can be found at geoparsepy.example_geoparse.py note: loading 1,000,000+ global locations into memory at startup is slow (up to 60 minutes) but subsequently the geoparsing of text is very fast (real-time speeds)"
   ]
  },
  {
   "cell_type": "code",
   "execution_count": 7,
   "metadata": {},
   "outputs": [],
   "source": [
    "import os, sys, logging, traceback, codecs, datetime, copy, time, ast, math, re, random, shutil, json"
   ]
  },
  {
   "cell_type": "code",
   "execution_count": 9,
   "metadata": {},
   "outputs": [
    {
     "ename": "ModuleNotFoundError",
     "evalue": "No module named 'config_helper'",
     "output_type": "error",
     "traceback": [
      "\u001b[1;31m---------------------------------------------------------------------------\u001b[0m",
      "\u001b[1;31mModuleNotFoundError\u001b[0m                       Traceback (most recent call last)",
      "\u001b[1;32m<ipython-input-9-7d39c2e1a1f2>\u001b[0m in \u001b[0;36m<module>\u001b[1;34m()\u001b[0m\n\u001b[1;32m----> 1\u001b[1;33m \u001b[1;32mimport\u001b[0m \u001b[0mgeoparsepy\u001b[0m\u001b[1;33m\u001b[0m\u001b[0m\n\u001b[0m",
      "\u001b[1;32m~\\Anaconda3\\lib\\site-packages\\geoparsepy\\__init__.py\u001b[0m in \u001b[0;36m<module>\u001b[1;34m()\u001b[0m\n\u001b[1;32m----> 1\u001b[1;33m \u001b[1;32mimport\u001b[0m \u001b[0mconfig_helper\u001b[0m\u001b[1;33m,\u001b[0m \u001b[0mcommon_parse_lib\u001b[0m\u001b[1;33m,\u001b[0m \u001b[0mPostgresqlHandler\u001b[0m\u001b[1;33m,\u001b[0m \u001b[0mgeo_parse_lib\u001b[0m\u001b[1;33m,\u001b[0m \u001b[0mgeo_preprocess_lib\u001b[0m\u001b[1;33m\u001b[0m\u001b[0m\n\u001b[0m",
      "\u001b[1;31mModuleNotFoundError\u001b[0m: No module named 'config_helper'"
     ]
    }
   ],
   "source": [
    "import geoparsepy"
   ]
  },
  {
   "cell_type": "code",
   "execution_count": null,
   "metadata": {
    "collapsed": true
   },
   "outputs": [],
   "source": [
    "LOG_FORMAT = ('%(message)s')\n",
    "logger = logging.getLogger( __name__ )\n",
    "logging.basicConfig( level=logging.INFO, format=LOG_FORMAT )\n",
    "logger.info('logging started')\n",
    "\n",
    "dictGeospatialConfig = geoparsepy.geo_parse_lib.get_geoparse_config( \n",
    "\tlang_codes = ['en'],\n",
    "\tlogger = logger,\n",
    "\tcorpus_dir = None,\n",
    "\twhitespace = u'\"\\u201a\\u201b\\u201c\\u201d()',\n",
    "\tsent_token_seps = ['\\n','\\r\\n', '\\f', u'\\u2026'],\n",
    "\tpunctuation = \"\"\",;\\/:+-#~&*=!?\"\"\",\n",
    "\t)\n",
    "\n",
    "databaseHandle = geoparsepy.PostgresqlHandler.PostgresqlHandler( 'postgres', 'postgres', 'localhost', 5432, 'openstreetmap', 600 )\n",
    "\n",
    "dictLocationIDs = {}\n",
    "listFocusArea=[ 'global_cities10', 'europe_places', 'north_america_places', 'au_nz_places' ]\n",
    "for strFocusArea in listFocusArea :\n",
    "\tdictLocationIDs[strFocusArea + '_admin'] = [-1,-1]\n",
    "\tdictLocationIDs[strFocusArea + '_poly'] = [-1,-1]\n",
    "\tdictLocationIDs[strFocusArea + '_line'] = [-1,-1]\n",
    "\tdictLocationIDs[strFocusArea + '_point'] = [-1,-1]\n",
    "\n",
    "cached_locations = geoparsepy.geo_preprocess_lib.cache_preprocessed_locations( databaseHandle, dictLocationIDs, 'reveal', dictGeospatialConfig )\n",
    "logger.info( 'number of cached locations = ' + str(len(cached_locations)) )\n",
    "\n",
    "databaseHandle.close()\n",
    "\n",
    "indexed_locations = geoparsepy.geo_parse_lib.calc_inverted_index( cached_locations, dictGeospatialConfig )\n",
    "logger.info( 'number of indexed phrases = ' + str(len(indexed_locations.keys())) )\n",
    "\n",
    "indexed_geoms = geoparsepy.geo_parse_lib.calc_geom_index( cached_locations )\n",
    "logger.info( 'number of indexed geoms = ' + str(len(indexed_geoms.keys())) )\n",
    "\n",
    "osmid_lookup = geoparsepy.geo_parse_lib.calc_osmid_lookup( cached_locations )\n",
    "\n",
    "dictGeomResultsCache = {}\n",
    "\n",
    "listText = [\n",
    "\tu'hello New York, USA its Bill from Bassett calling',\n",
    "\tu'live on the BBC Victoria Derbyshire is visiting Derbyshire for an exclusive UK interview',\n",
    "\t]\n",
    "\n",
    "listTokenSets = []\n",
    "listGeotags = []\n",
    "for nIndex in range(len(listText)) :\n",
    "\tstrUTF8Text = listText[ nIndex ]\n",
    "\tlistToken = geoparsepy.common_parse_lib.unigram_tokenize_microblog_text( strUTF8Text, dictGeospatialConfig )\n",
    "\tlistTokenSets.append( listToken )\n",
    "\tlistGeotags.append( None )\n",
    "\n",
    "listMatchSet = geoparsepy.geo_parse_lib.geoparse_token_set( listTokenSets, indexed_locations, dictGeospatialConfig )\n",
    "\n",
    "strGeom = 'POINT(-1.4052268 50.9369033)'\n",
    "listGeotags[0] = strGeom\n",
    "\n",
    "listMatchGeotag = geoparsepy.geo_parse_lib.reverse_geocode_geom( [strGeom], indexed_geoms, dictGeospatialConfig )\n",
    "if len( listMatchGeotag[0] ) > 0  :\n",
    "\tfor tupleOSMIDs in listMatchGeotag[0] :\n",
    "\t\tsetIndexLoc = osmid_lookup[ tupleOSMIDs ]\n",
    "\t\tfor nIndexLoc in setIndexLoc :\n",
    "\t\t\tstrName = cached_locations[nIndexLoc][1]\n",
    "\t\t\tlogger.info( 'Reverse geocoded geotag location [index ' + str(nIndexLoc) + ' osmid ' + repr(tupleOSMIDs) + '] = ' + strName )\n",
    "\n",
    "for nIndex in range(len(listMatchSet)) :\n",
    "\tlogger.info( 'Text = ' + listText[nIndex] )\n",
    "\tlistMatch = listMatchSet[ nIndex ]\n",
    "\tstrGeom = listGeotags[ nIndex ]\n",
    "\tsetOSMID = set([])\n",
    "\tfor tupleMatch in listMatch :\n",
    "\t\tnTokenStart = tupleMatch[0]\n",
    "\t\tnTokenEnd = tupleMatch[1]\n",
    "\t\ttuplePhrase = tupleMatch[3]\n",
    "\t\tfor tupleOSMIDs in tupleMatch[2] :\n",
    "\t\t\tsetIndexLoc = osmid_lookup[ tupleOSMIDs ]\n",
    "\t\t\tfor nIndexLoc in setIndexLoc :\n",
    "\t\t\t\tlogger.info( 'Location [index ' + str(nIndexLoc) + ' osmid ' + repr(tupleOSMIDs) + ' @ ' + str(nTokenStart) + ' : ' + str(nTokenEnd) + '] = ' + ' '.join(tuplePhrase) )\n",
    "\t\t\t\tbreak\n",
    "\tlistLocMatches = geoparsepy.geo_parse_lib.create_matched_location_list( listMatch, cached_locations, osmid_lookup )\n",
    "\tgeoparsepy.geo_parse_lib.filter_matches_by_confidence( listLocMatches, dictGeospatialConfig, geom_context = strGeom, geom_cache = dictGeomResultsCache )\n",
    "\tgeoparsepy.geo_parse_lib.filter_matches_by_geom_area( listLocMatches, dictGeospatialConfig )\n",
    "\tgeoparsepy.geo_parse_lib.filter_matches_by_region_of_interest( listLocMatches, [-148838, -62149], dictGeospatialConfig )\n",
    "\tsetOSMID = set([])\n",
    "\tfor nMatchIndex in range(len(listLocMatches)) :\n",
    "\t\tnTokenStart = listLocMatches[nMatchIndex][1]\n",
    "\t\tnTokenEnd = listLocMatches[nMatchIndex][2]\n",
    "\t\ttuplePhrase = listLocMatches[nMatchIndex][3]\n",
    "\t\tstrGeom = listLocMatches[nMatchIndex][4]\n",
    "\t\ttupleOSMID = listLocMatches[nMatchIndex][5]\n",
    "\t\tdictOSMTags = listLocMatches[nMatchIndex][6]\n",
    "\t\tif not tupleOSMID in setOSMID :\n",
    "\t\t\tsetOSMID.add( tupleOSMID )\n",
    "\t\t\tlistNameMultilingual = geoparsepy.geo_parse_lib.calc_multilingual_osm_name_set( dictOSMTags, dictGeospatialConfig )\n",
    "\t\t\tstrNameList = ';'.join( listNameMultilingual )\n",
    "\t\t\tstrOSMURI = geoparsepy.geo_parse_lib.calc_OSM_uri( tupleOSMID, strGeom )\n",
    "\t\t\tlogger.info( 'Disambiguated Location [index ' + str(nMatchIndex) + ' osmid ' + repr(tupleOSMID) + ' @ ' + str(nTokenStart) + ' : ' + str(nTokenEnd) + '] = ' + strNameList + ' : ' + strOSMURI )"
   ]
  },
  {
   "cell_type": "markdown",
   "metadata": {},
   "source": [
    "## 4. Databases needed for preprocessing focus areas\n",
    "To preprocess your own focus areas (e.g. a city with all its streets and buildings) you need a local deployment of the planet OpenStreetmapDatabase. \n",
    "\n",
    "Once a focus area is preprocessed a database table will be created for it. This can be used in the geoparse just like the 'global_cities10' focus area is in the previous example.\n",
    "\n",
    "[Osm2pgsql](https://wiki.openstreetmap.org/wiki/Osm2pgsql#From_the_package_manager)\n",
    "**Osm2pgsql** is a command-line based program that converts OpenStreetMap data to postGIS-enabled PostgreSQL databases.\n",
    "\n",
    "[Planet.osm](https://wiki.openstreetmap.org/wiki/Planet.osm)\n",
    "**Planet.osm** is the OpenStreetMap data in one file: all the nodes, ways and relations that make up our map. \n",
    "\n",
    "A new version is released every week. It's a big file (on 2018-04-21, the plain OSM XML variant takes over 913 GB when uncompressed from the 66.6 GB bzip2-compressed or 39.6GB PBF-compressed downloaded data file)."
   ]
  },
  {
   "cell_type": "markdown",
   "metadata": {},
   "source": [
    "## 5.  code preprocess focus area\n",
    "Preprocessing new focus area tables in the Postgres database. Fully documented example PY file can be found at geoparsepy.example_preprocess_focus_area.py"
   ]
  },
  {
   "cell_type": "code",
   "execution_count": null,
   "metadata": {
    "collapsed": true
   },
   "outputs": [],
   "source": [
    "import os, sys, logging, traceback, codecs, datetime, copy, time, ast, math, re, random, shutil, json\n",
    "import geoparsepy.config_helper, geoparsepy.common_parse_lib, geoparsepy.PostgresqlHandler, geoparsepy.geo_parse_lib, geoparsepy.geo_preprocess_lib\n",
    "\n",
    "LOG_FORMAT = ('%(message)s')\n",
    "logger = logging.getLogger( __name__ )\n",
    "logging.basicConfig( level=logging.INFO, format=LOG_FORMAT )\n",
    "logger.info('logging started')\n",
    "\n",
    "dictFocusAreaSpec = {\n",
    "\t'southampton' : {\n",
    "\t\t'focus_area_id' : 'southampton',\n",
    "\t\t'admin': ['southampton','south east england', 'united kingdom'],\n",
    "\t\t'admin_lookup_table' : 'global_cities10_admin',\n",
    "\t}\n",
    "}\n",
    "\n",
    "dictGlobalSpec = None\n",
    "\n",
    "dictGeospatialConfig = geoparsepy.geo_parse_lib.get_geoparse_config( \n",
    "\tlang_codes = ['en'],\n",
    "\tlogger = logger,\n",
    "\tcorpus_dir = None,\n",
    "\twhitespace = u'\"\\u201a\\u201b\\u201c\\u201d()',\n",
    "\tsent_token_seps = ['\\n','\\r\\n', '\\f', u'\\u2026'],\n",
    "\tpunctuation = \"\"\",;\\/:+-#~&*=!?\"\"\",\n",
    "\t)\n",
    "\n",
    "dbHandlerPool = {}\n",
    "dbHandlerPool['admin'] = geoparsepy.PostgresqlHandler.PostgresqlHandler( 'postgres', 'postgres', 'localhost', 5432, 'openstreetmap' )\n",
    "dbHandlerPool['point'] = geoparsepy.PostgresqlHandler.PostgresqlHandler( 'postgres', 'postgres', 'localhost', 5432, 'openstreetmap' )\n",
    "dbHandlerPool['poly'] = geoparsepy.PostgresqlHandler.PostgresqlHandler( 'postgres', 'postgres', 'localhost', 5432, 'openstreetmap' )\n",
    "dbHandlerPool['line'] = geoparsepy.PostgresqlHandler.PostgresqlHandler( 'postgres', 'postgres', 'localhost', 5432, 'openstreetmap' )\n",
    "\n",
    "for strFocusArea in dictFocusAreaSpec.keys() :\n",
    "\tlogger.info( 'starting focus area ' + strFocusArea )\n",
    "\tjsonFocusArea = dictFocusAreaSpec[strFocusArea]\n",
    "\tgeoparsepy.geo_preprocess_lib.create_preprocessing_tables( jsonFocusArea, dbHandlerPool['admin'], 'reveal', delete_contents = False, logger = logger )\n",
    "\tdictNewLocations = geoparsepy.geo_preprocess_lib.execute_preprocessing_focus_area( jsonFocusArea, dbHandlerPool, 'reveal', logger = logger )\n",
    "\tlogger.info( 'finished focus area ' + strFocusArea )\n",
    "\tlogger.info( 'location id range : ' + repr(dictNewLocations) )\n",
    "\n",
    "dbHandlerPool['admin'].close()\n",
    "dbHandlerPool['point'].close()\n",
    "dbHandlerPool['poly'].close()\n",
    "dbHandlerPool['line'].close()"
   ]
  }
 ],
 "metadata": {
  "kernelspec": {
   "display_name": "Python 3",
   "language": "python",
   "name": "python3"
  },
  "language_info": {
   "codemirror_mode": {
    "name": "ipython",
    "version": 3
   },
   "file_extension": ".py",
   "mimetype": "text/x-python",
   "name": "python",
   "nbconvert_exporter": "python",
   "pygments_lexer": "ipython3",
   "version": "3.6.3"
  }
 },
 "nbformat": 4,
 "nbformat_minor": 2
}
